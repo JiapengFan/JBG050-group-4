{
 "cells": [
  {
   "cell_type": "code",
   "execution_count": 11,
   "metadata": {},
   "outputs": [],
   "source": [
    "from sklearn.ensemble import RandomForestRegressor, RandomForestClassifier\n",
    "from sklearn.model_selection import train_test_split\n",
    "import pandas as pd\n",
    "import numpy as np\n",
    "import matplotlib.pyplot as plt\n",
    "import datetime as dt"
   ]
  },
  {
   "cell_type": "code",
   "execution_count": 12,
   "metadata": {},
   "outputs": [],
   "source": [
    "data_inventory = pd.read_csv(\"../data/inventory.csv\")\n",
    "data_products = pd.read_csv(\"../data/products.csv\")\n",
    "data_promotions = pd.read_csv(\"../data/promotions.csv\")\n",
    "data_transactions = pd.read_csv(\"../data/transactions.csv\")"
   ]
  },
  {
   "cell_type": "code",
   "execution_count": 13,
   "metadata": {},
   "outputs": [
    {
     "data": {
      "text/html": [
       "<div>\n",
       "<style scoped>\n",
       "    .dataframe tbody tr th:only-of-type {\n",
       "        vertical-align: middle;\n",
       "    }\n",
       "\n",
       "    .dataframe tbody tr th {\n",
       "        vertical-align: top;\n",
       "    }\n",
       "\n",
       "    .dataframe thead th {\n",
       "        text-align: right;\n",
       "    }\n",
       "</style>\n",
       "<table border=\"1\" class=\"dataframe\">\n",
       "  <thead>\n",
       "    <tr style=\"text-align: right;\">\n",
       "      <th></th>\n",
       "      <th>day</th>\n",
       "      <th>time</th>\n",
       "      <th>customer</th>\n",
       "      <th>bank acount</th>\n",
       "      <th>category</th>\n",
       "      <th>product_id</th>\n",
       "      <th>description</th>\n",
       "      <th>size</th>\n",
       "      <th>std_sales_price</th>\n",
       "      <th>purchase_price</th>\n",
       "      <th>bio</th>\n",
       "      <th>basic</th>\n",
       "    </tr>\n",
       "  </thead>\n",
       "  <tbody>\n",
       "    <tr>\n",
       "      <th>374</th>\n",
       "      <td>1/1/2018</td>\n",
       "      <td>13:52:41</td>\n",
       "      <td>23.0</td>\n",
       "      <td>53801240.0</td>\n",
       "      <td>meat</td>\n",
       "      <td>m_7</td>\n",
       "      <td>Rundergehakt</td>\n",
       "      <td>300g</td>\n",
       "      <td>2.29</td>\n",
       "      <td>2.29</td>\n",
       "      <td>0.0</td>\n",
       "      <td>0.0</td>\n",
       "    </tr>\n",
       "    <tr>\n",
       "      <th>383</th>\n",
       "      <td>1/1/2018</td>\n",
       "      <td>13:52:41</td>\n",
       "      <td>23.0</td>\n",
       "      <td>53801240.0</td>\n",
       "      <td>meat</td>\n",
       "      <td>m_1</td>\n",
       "      <td>Rundergehakt</td>\n",
       "      <td>500g</td>\n",
       "      <td>3.69</td>\n",
       "      <td>3.69</td>\n",
       "      <td>0.0</td>\n",
       "      <td>0.0</td>\n",
       "    </tr>\n",
       "    <tr>\n",
       "      <th>403</th>\n",
       "      <td>1/1/2018</td>\n",
       "      <td>14:09:57</td>\n",
       "      <td>24.0</td>\n",
       "      <td>55280334.0</td>\n",
       "      <td>meat</td>\n",
       "      <td>m_7</td>\n",
       "      <td>Rundergehakt</td>\n",
       "      <td>300g</td>\n",
       "      <td>2.29</td>\n",
       "      <td>2.29</td>\n",
       "      <td>0.0</td>\n",
       "      <td>0.0</td>\n",
       "    </tr>\n",
       "    <tr>\n",
       "      <th>496</th>\n",
       "      <td>1/1/2018</td>\n",
       "      <td>14:30:47</td>\n",
       "      <td>27.0</td>\n",
       "      <td>51176058.0</td>\n",
       "      <td>meat</td>\n",
       "      <td>m_1</td>\n",
       "      <td>Rundergehakt</td>\n",
       "      <td>500g</td>\n",
       "      <td>3.69</td>\n",
       "      <td>3.69</td>\n",
       "      <td>0.0</td>\n",
       "      <td>0.0</td>\n",
       "    </tr>\n",
       "    <tr>\n",
       "      <th>553</th>\n",
       "      <td>1/1/2018</td>\n",
       "      <td>15:19:45</td>\n",
       "      <td>31.0</td>\n",
       "      <td>51171942.0</td>\n",
       "      <td>meat</td>\n",
       "      <td>m_7</td>\n",
       "      <td>Rundergehakt</td>\n",
       "      <td>300g</td>\n",
       "      <td>2.29</td>\n",
       "      <td>2.29</td>\n",
       "      <td>0.0</td>\n",
       "      <td>0.0</td>\n",
       "    </tr>\n",
       "  </tbody>\n",
       "</table>\n",
       "</div>"
      ],
      "text/plain": [
       "          day      time  customer  bank acount category product_id  \\\n",
       "374  1/1/2018  13:52:41      23.0   53801240.0     meat        m_7   \n",
       "383  1/1/2018  13:52:41      23.0   53801240.0     meat        m_1   \n",
       "403  1/1/2018  14:09:57      24.0   55280334.0     meat        m_7   \n",
       "496  1/1/2018  14:30:47      27.0   51176058.0     meat        m_1   \n",
       "553  1/1/2018  15:19:45      31.0   51171942.0     meat        m_7   \n",
       "\n",
       "      description   size  std_sales_price  purchase_price  bio  basic  \n",
       "374  Rundergehakt  300g              2.29            2.29  0.0    0.0  \n",
       "383  Rundergehakt   500g             3.69            3.69  0.0    0.0  \n",
       "403  Rundergehakt  300g              2.29            2.29  0.0    0.0  \n",
       "496  Rundergehakt   500g             3.69            3.69  0.0    0.0  \n",
       "553  Rundergehakt  300g              2.29            2.29  0.0    0.0  "
      ]
     },
     "execution_count": 13,
     "metadata": {},
     "output_type": "execute_result"
    }
   ],
   "source": [
    "data_transactions[data_transactions['description'] == 'Rundergehakt'].head()"
   ]
  },
  {
   "cell_type": "code",
   "execution_count": 14,
   "metadata": {},
   "outputs": [
    {
     "data": {
      "text/html": [
       "<div>\n",
       "<style scoped>\n",
       "    .dataframe tbody tr th:only-of-type {\n",
       "        vertical-align: middle;\n",
       "    }\n",
       "\n",
       "    .dataframe tbody tr th {\n",
       "        vertical-align: top;\n",
       "    }\n",
       "\n",
       "    .dataframe thead th {\n",
       "        text-align: right;\n",
       "    }\n",
       "</style>\n",
       "<table border=\"1\" class=\"dataframe\">\n",
       "  <thead>\n",
       "    <tr style=\"text-align: right;\">\n",
       "      <th></th>\n",
       "      <th>week</th>\n",
       "      <th>category</th>\n",
       "      <th>product_id</th>\n",
       "      <th>description</th>\n",
       "      <th>discount</th>\n",
       "    </tr>\n",
       "  </thead>\n",
       "  <tbody>\n",
       "    <tr>\n",
       "      <th>0</th>\n",
       "      <td>1</td>\n",
       "      <td>vegetable</td>\n",
       "      <td>v_14</td>\n",
       "      <td>Biologische knoflook</td>\n",
       "      <td>30</td>\n",
       "    </tr>\n",
       "    <tr>\n",
       "      <th>1</th>\n",
       "      <td>1</td>\n",
       "      <td>vegetable</td>\n",
       "      <td>v_2</td>\n",
       "      <td>Courgette</td>\n",
       "      <td>5</td>\n",
       "    </tr>\n",
       "    <tr>\n",
       "      <th>2</th>\n",
       "      <td>1</td>\n",
       "      <td>vegetable</td>\n",
       "      <td>v_16</td>\n",
       "      <td>Biologische kikkererwten</td>\n",
       "      <td>10</td>\n",
       "    </tr>\n",
       "    <tr>\n",
       "      <th>3</th>\n",
       "      <td>1</td>\n",
       "      <td>vegetable</td>\n",
       "      <td>v_12</td>\n",
       "      <td>Biologische courgette</td>\n",
       "      <td>15</td>\n",
       "    </tr>\n",
       "    <tr>\n",
       "      <th>4</th>\n",
       "      <td>1</td>\n",
       "      <td>bread</td>\n",
       "      <td>b_41</td>\n",
       "      <td>Chinois brioche</td>\n",
       "      <td>30</td>\n",
       "    </tr>\n",
       "    <tr>\n",
       "      <th>...</th>\n",
       "      <td>...</td>\n",
       "      <td>...</td>\n",
       "      <td>...</td>\n",
       "      <td>...</td>\n",
       "      <td>...</td>\n",
       "    </tr>\n",
       "    <tr>\n",
       "      <th>775</th>\n",
       "      <td>52</td>\n",
       "      <td>vegetable</td>\n",
       "      <td>v_5</td>\n",
       "      <td>Paprika</td>\n",
       "      <td>10</td>\n",
       "    </tr>\n",
       "    <tr>\n",
       "      <th>776</th>\n",
       "      <td>52</td>\n",
       "      <td>meat</td>\n",
       "      <td>m_2</td>\n",
       "      <td>Gerookte spekreepjes</td>\n",
       "      <td>35</td>\n",
       "    </tr>\n",
       "    <tr>\n",
       "      <th>777</th>\n",
       "      <td>52</td>\n",
       "      <td>vegetable</td>\n",
       "      <td>v_32</td>\n",
       "      <td>Buitenbeentjes komkommer</td>\n",
       "      <td>10</td>\n",
       "    </tr>\n",
       "    <tr>\n",
       "      <th>778</th>\n",
       "      <td>52</td>\n",
       "      <td>meat</td>\n",
       "      <td>m_12</td>\n",
       "      <td>Unox Gelderse rookworst</td>\n",
       "      <td>30</td>\n",
       "    </tr>\n",
       "    <tr>\n",
       "      <th>779</th>\n",
       "      <td>52</td>\n",
       "      <td>meat</td>\n",
       "      <td>m_21</td>\n",
       "      <td>gerookt onbijtspek</td>\n",
       "      <td>30</td>\n",
       "    </tr>\n",
       "  </tbody>\n",
       "</table>\n",
       "<p>780 rows × 5 columns</p>\n",
       "</div>"
      ],
      "text/plain": [
       "     week   category product_id               description  discount\n",
       "0       1  vegetable       v_14      Biologische knoflook        30\n",
       "1       1  vegetable        v_2                 Courgette         5\n",
       "2       1  vegetable       v_16  Biologische kikkererwten        10\n",
       "3       1  vegetable       v_12     Biologische courgette        15\n",
       "4       1      bread       b_41           Chinois brioche        30\n",
       "..    ...        ...        ...                       ...       ...\n",
       "775    52  vegetable        v_5                   Paprika        10\n",
       "776    52       meat        m_2      Gerookte spekreepjes        35\n",
       "777    52  vegetable       v_32  Buitenbeentjes komkommer        10\n",
       "778    52       meat       m_12   Unox Gelderse rookworst        30\n",
       "779    52       meat       m_21        gerookt onbijtspek        30\n",
       "\n",
       "[780 rows x 5 columns]"
      ]
     },
     "execution_count": 14,
     "metadata": {},
     "output_type": "execute_result"
    }
   ],
   "source": [
    "data_promotions"
   ]
  },
  {
   "cell_type": "code",
   "execution_count": 15,
   "metadata": {},
   "outputs": [],
   "source": [
    "#data_promotions['description'].value_counts()"
   ]
  },
  {
   "cell_type": "code",
   "execution_count": 16,
   "metadata": {},
   "outputs": [],
   "source": [
    "def sales_different_prices(df_transactions, product :str, size):\n",
    "    product_sales = data_transactions[data_transactions['description'] == product]\n",
    "    product_sales = product_sales[product_sales['size'] == size]\n",
    "    sales_per_day = product_sales['day'].value_counts()\n",
    "    \n",
    "    daily_sales = []\n",
    "    daily_price = []\n",
    "    for day in range(len(sales_per_day.index)):\n",
    "        sales = sales_per_day[day]\n",
    "        price1 = product_sales[product_sales['day'] == sales_per_day.index[day]]['purchase_price']\n",
    "        #price1 = product_sales[product_sales['day'] == sales_per_day.index[day]]['purchase_price']\n",
    "        price = [price1[price1.index[0]]]\n",
    "        daily_sales.append(sales)\n",
    "        daily_price.append(price)\n",
    "        \n",
    "    return daily_price, daily_sales   "
   ]
  },
  {
   "cell_type": "code",
   "execution_count": 17,
   "metadata": {},
   "outputs": [],
   "source": [
    "def sales_different_prices_id(df_transactions, product_id):\n",
    "    product_sales = data_transactions[data_transactions['product_id'] == product_id]\n",
    "    sales_per_day = product_sales['day'].value_counts()\n",
    "    \n",
    "    daily_sales = []\n",
    "    daily_price = []\n",
    "    for day in range(len(sales_per_day.index)):\n",
    "        sales = sales_per_day[day]\n",
    "        price1 = product_sales[product_sales['day'] == sales_per_day.index[day]]['purchase_price']\n",
    "        #price1 = product_sales[product_sales['day'] == sales_per_day.index[day]]['purchase_price']\n",
    "        price = [price1[price1.index[0]]]\n",
    "        daily_sales.append(sales)\n",
    "        daily_price.append(price)\n",
    "        \n",
    "    return daily_price, daily_sales   "
   ]
  },
  {
   "cell_type": "code",
   "execution_count": 18,
   "metadata": {},
   "outputs": [],
   "source": [
    "def sales_different_pricesandsizes(df_transactions, product):\n",
    "    product_sales = data_transactions[data_transactions['description'] == product]\n",
    "    #product_sales = product_sales[product_sales['size'] == size]\n",
    "    #sales_per_day = product_sales['day'].value_counts()\n",
    "    days = product_sales['day'].unique()\n",
    "    \n",
    "    daily_sales = []\n",
    "    daily_price = []\n",
    "    size_dummy = -1\n",
    "    \n",
    "\n",
    "    for size in product_sales['size'].unique():\n",
    "        product_sales_loop = product_sales[product_sales['size'] == size]\n",
    "        sales_per_day = product_sales_loop['day'].value_counts()\n",
    "        size_dummy += 1\n",
    "        for day in range(len(sales_per_day)):\n",
    "            sales = sales_per_day[day]\n",
    "            price1 = product_sales[product_sales['day'] == sales_per_day.index[day]]['purchase_price']\n",
    "            #price1 = product_sales[product_sales['day'] == sales_per_day.index[day]]['purchase_price']\n",
    "            price = [price1[price1.index[0]], size_dummy]\n",
    "            daily_sales.append(sales)\n",
    "            daily_price.append(price)\n",
    "        \n",
    "    return daily_price, daily_sales   "
   ]
  },
  {
   "cell_type": "code",
   "execution_count": 19,
   "metadata": {},
   "outputs": [],
   "source": [
    "def forest_df(data, product):\n",
    "    days = []\n",
    "    sales = []\n",
    "    prices = []\n",
    "    size_list = []\n",
    "    \n",
    "    different_sizes = data[data['description'] == product]['size'].unique()\n",
    "    different_sizes = [x for x in different_sizes if x == x]\n",
    "    product_data = data[data['description'] == product]\n",
    "    \n",
    "    for day in data['day'].unique():\n",
    "        size_variable = -1\n",
    "        daily_sales = data[data['day'] == day]\n",
    "        product_sales = daily_sales[daily_sales['description'] == product]\n",
    "        \n",
    "        for size in different_sizes:\n",
    "            size_variable += 1\n",
    "            sales_per_size = len(product_sales[product_sales['size'] == size])\n",
    "            try:\n",
    "                price = product_sales[product_sales['size'] == size]['purchase_price'].iloc[0]\n",
    "            except:\n",
    "                price = product_data[product_data['size'] == size]['purchase_price'].max()\n",
    "            \n",
    "            days.append(day)\n",
    "            sales.append(sales_per_size)\n",
    "            size_list.append(size_variable)\n",
    "            prices.append(price)\n",
    "     \n",
    "    raw_data = {'date' : days, 'amount_sold':sales, 'price': prices, 'size':size_list}\n",
    "    dataframe = pd.DataFrame(raw_data)\n",
    "    return dataframe"
   ]
  },
  {
   "cell_type": "code",
   "execution_count": 20,
   "metadata": {},
   "outputs": [],
   "source": [
    "def forest_variables(forest_data):\n",
    "    prices = forest_data['price']\n",
    "    sales = forest_data['amount_sold']\n",
    "    sizes = forest_data['size']\n",
    "    \n",
    "    zipped = zip(prices, sizes)\n",
    "    x_train = [list(a) for a in zipped]\n",
    "    y_train = sales\n",
    "    \n",
    "    return x_train, y_train\n",
    "    "
   ]
  },
  {
   "cell_type": "code",
   "execution_count": 21,
   "metadata": {},
   "outputs": [],
   "source": [
    "#product_sales = data_transactions[data_transactions['description'] == 'Rundergehakt']\n",
    "#product_sales_loop = product_sales[product_sales['size'] == '500g']\n",
    "#sales_per_day = product_sales_loop['day'].value_counts()\n",
    "#sales_per_day[150:180]"
   ]
  },
  {
   "cell_type": "code",
   "execution_count": 22,
   "metadata": {},
   "outputs": [],
   "source": [
    "#x_price, y_sales = sales_different_prices(data_transactions, 'Rundergehakt', '500g')"
   ]
  },
  {
   "cell_type": "code",
   "execution_count": 23,
   "metadata": {},
   "outputs": [],
   "source": [
    "#x_price1, y_sales1 = sales_different_pricesandsizes(data_transactions, 'Rundergehakt')"
   ]
  },
  {
   "cell_type": "code",
   "execution_count": 24,
   "metadata": {},
   "outputs": [],
   "source": [
    "#x_price2, y_sales2 = sales_different_pricesandsizes(data_transactions, 'm_1')"
   ]
  },
  {
   "cell_type": "code",
   "execution_count": 25,
   "metadata": {},
   "outputs": [],
   "source": [
    "forest_data = forest_df(data_transactions, 'Rundergehakt')"
   ]
  },
  {
   "cell_type": "code",
   "execution_count": 203,
   "metadata": {},
   "outputs": [
    {
     "data": {
      "text/html": [
       "<div>\n",
       "<style scoped>\n",
       "    .dataframe tbody tr th:only-of-type {\n",
       "        vertical-align: middle;\n",
       "    }\n",
       "\n",
       "    .dataframe tbody tr th {\n",
       "        vertical-align: top;\n",
       "    }\n",
       "\n",
       "    .dataframe thead th {\n",
       "        text-align: right;\n",
       "    }\n",
       "</style>\n",
       "<table border=\"1\" class=\"dataframe\">\n",
       "  <thead>\n",
       "    <tr style=\"text-align: right;\">\n",
       "      <th></th>\n",
       "      <th>date</th>\n",
       "      <th>amount_sold</th>\n",
       "      <th>price</th>\n",
       "      <th>size</th>\n",
       "    </tr>\n",
       "  </thead>\n",
       "  <tbody>\n",
       "    <tr>\n",
       "      <th>0</th>\n",
       "      <td>1/1/2018</td>\n",
       "      <td>5</td>\n",
       "      <td>2.29</td>\n",
       "      <td>0</td>\n",
       "    </tr>\n",
       "    <tr>\n",
       "      <th>1</th>\n",
       "      <td>1/1/2018</td>\n",
       "      <td>3</td>\n",
       "      <td>3.69</td>\n",
       "      <td>1</td>\n",
       "    </tr>\n",
       "    <tr>\n",
       "      <th>2</th>\n",
       "      <td>NaN</td>\n",
       "      <td>0</td>\n",
       "      <td>2.29</td>\n",
       "      <td>0</td>\n",
       "    </tr>\n",
       "    <tr>\n",
       "      <th>3</th>\n",
       "      <td>NaN</td>\n",
       "      <td>0</td>\n",
       "      <td>3.69</td>\n",
       "      <td>1</td>\n",
       "    </tr>\n",
       "    <tr>\n",
       "      <th>4</th>\n",
       "      <td>2/1/2018</td>\n",
       "      <td>4</td>\n",
       "      <td>2.29</td>\n",
       "      <td>0</td>\n",
       "    </tr>\n",
       "  </tbody>\n",
       "</table>\n",
       "</div>"
      ],
      "text/plain": [
       "       date  amount_sold  price  size\n",
       "0  1/1/2018            5   2.29     0\n",
       "1  1/1/2018            3   3.69     1\n",
       "2       NaN            0   2.29     0\n",
       "3       NaN            0   3.69     1\n",
       "4  2/1/2018            4   2.29     0"
      ]
     },
     "execution_count": 203,
     "metadata": {},
     "output_type": "execute_result"
    }
   ],
   "source": [
    "forest_data.head()"
   ]
  },
  {
   "cell_type": "code",
   "execution_count": 26,
   "metadata": {},
   "outputs": [],
   "source": [
    "x_price, y_sales = forest_variables(forest_data)"
   ]
  },
  {
   "cell_type": "code",
   "execution_count": 43,
   "metadata": {},
   "outputs": [],
   "source": [
    "X_train, X_test, y_train, y_test =  train_test_split(x_price, y_sales, test_size = 0.25, random_state=42)\n"
   ]
  },
  {
   "cell_type": "code",
   "execution_count": 55,
   "metadata": {},
   "outputs": [
    {
     "data": {
      "text/plain": [
       "RandomForestRegressor(max_depth=100, max_features=1, min_samples_leaf=0.02,\n",
       "                      min_samples_split=0.05, n_estimators=500,\n",
       "                      random_state=42)"
      ]
     },
     "execution_count": 55,
     "metadata": {},
     "output_type": "execute_result"
    }
   ],
   "source": [
    "from math import ceil\n",
    "\n",
    "bos = RandomForestRegressor(n_estimators = 500, min_samples_split = 0.05, min_samples_leaf = 0.02, max_features = ceil(len(X_train[0])/3), max_depth = 100, bootstrap = True, random_state=42)\n",
    "bos.fit(X_train, y_train)"
   ]
  },
  {
   "cell_type": "code",
   "execution_count": 56,
   "metadata": {},
   "outputs": [
    {
     "data": {
      "text/plain": [
       "2.265150091284047"
      ]
     },
     "execution_count": 56,
     "metadata": {},
     "output_type": "execute_result"
    }
   ],
   "source": [
    "from sklearn import metrics\n",
    "\n",
    "y_pred = bos.predict(X_test)\n",
    "np.sqrt(metrics.mean_squared_error(y_test, y_pred))"
   ]
  },
  {
   "cell_type": "code",
   "execution_count": 218,
   "metadata": {},
   "outputs": [
    {
     "data": {
      "text/plain": [
       "RandomForestClassifier(bootstrap=False, class_weight=None, criterion='gini',\n",
       "            max_depth=90, max_features='sqrt', max_leaf_nodes=None,\n",
       "            min_impurity_decrease=0.0, min_impurity_split=None,\n",
       "            min_samples_leaf=4, min_samples_split=10,\n",
       "            min_weight_fraction_leaf=0.0, n_estimators=600, n_jobs=None,\n",
       "            oob_score=False, random_state=None, verbose=0,\n",
       "            warm_start=False)"
      ]
     },
     "execution_count": 218,
     "metadata": {},
     "output_type": "execute_result"
    }
   ],
   "source": [
    "bos_clf = RandomForestClassifier(n_estimators = 600, min_samples_split =10, min_samples_leaf = 4, max_features = 'sqrt', max_depth = 90, bootstrap = False)\n",
    "bos_clf.fit(X_train, y_train)"
   ]
  },
  {
   "cell_type": "code",
   "execution_count": 212,
   "metadata": {},
   "outputs": [],
   "source": [
    "def Accuracy(bos, X_test, y_test):\n",
    "    predictions = bos.predict(X_test)\n",
    "    rounded_predictions = [round(num) for num in predictions]\n",
    "    acc = 0\n",
    "    for i in range(len(y_test)):\n",
    "        if rounded_predictions[i] == y_test.iloc[i]:\n",
    "            acc += 1\n",
    "            \n",
    "    return acc/len(predictions)"
   ]
  },
  {
   "cell_type": "code",
   "execution_count": 223,
   "metadata": {},
   "outputs": [
    {
     "data": {
      "text/plain": [
       "0.14754098360655737"
      ]
     },
     "execution_count": 223,
     "metadata": {},
     "output_type": "execute_result"
    }
   ],
   "source": [
    "Accuracy(bos, X_test, y_test)"
   ]
  },
  {
   "cell_type": "code",
   "execution_count": null,
   "metadata": {},
   "outputs": [],
   "source": [
    "# input: [Samples, features]\n",
    "# output: [Samples, quantity demand]"
   ]
  },
  {
   "cell_type": "markdown",
   "metadata": {},
   "source": [
    "## Tuning parameters"
   ]
  },
  {
   "cell_type": "code",
   "execution_count": 17,
   "metadata": {},
   "outputs": [],
   "source": [
    "from sklearn.model_selection import RandomizedSearchCV\n",
    "from sklearn.model_selection import GridSearchCV"
   ]
  },
  {
   "cell_type": "code",
   "execution_count": 18,
   "metadata": {},
   "outputs": [
    {
     "name": "stdout",
     "output_type": "stream",
     "text": [
      "{'n_estimators': [200, 400, 600, 800, 1000, 1200, 1400, 1600, 1800, 2000], 'max_features': ['auto', 'sqrt'], 'max_depth': [10, 20, 30, 40, 50, 60, 70, 80, 90, 100, 110, None], 'min_samples_split': [2, 5, 10], 'min_samples_leaf': [1, 2, 4], 'bootstrap': [True, False]}\n"
     ]
    }
   ],
   "source": [
    "# Number of trees in random forest\n",
    "n_estimators = [int(x) for x in np.linspace(start = 200, stop = 2000, num = 10)]\n",
    "# Number of features to consider at every split\n",
    "max_features = ['auto', len(X_train[0])/3]\n",
    "# Maximum number of levels in tree\n",
    "max_depth = [int(x) for x in np.linspace(20, 200, num = 10)]\n",
    "max_depth.append(None)\n",
    "# Minimum number of samples required to split a node\n",
    "min_samples_split = [x for x in np.linspace(0.01, 0.07, num = 4)]\n",
    "# Minimum number of samples required at each leaf node\n",
    "min_samples_leaf = [x for x in np.linspace(0.01, 0.07, num = 4)]\n",
    "# Method of selecting samples for training each tree\n",
    "bootstrap = [True]\n",
    "# Create the random grid\n",
    "random_grid = {'n_estimators': n_estimators,\n",
    "               'max_features': max_features,\n",
    "               'max_depth': max_depth,\n",
    "               'min_samples_split': min_samples_split,\n",
    "               'min_samples_leaf': min_samples_leaf,\n",
    "               'bootstrap': bootstrap}\n",
    "\n",
    "print(random_grid)"
   ]
  },
  {
   "cell_type": "code",
   "execution_count": 220,
   "metadata": {},
   "outputs": [
    {
     "name": "stdout",
     "output_type": "stream",
     "text": [
      "Fitting 3 folds for each of 25 candidates, totalling 75 fits\n"
     ]
    },
    {
     "name": "stderr",
     "output_type": "stream",
     "text": [
      "[Parallel(n_jobs=-1)]: Using backend LokyBackend with 12 concurrent workers.\n",
      "[Parallel(n_jobs=-1)]: Done  17 tasks      | elapsed:    4.5s\n",
      "[Parallel(n_jobs=-1)]: Done  75 out of  75 | elapsed:   10.9s finished\n"
     ]
    },
    {
     "data": {
      "text/plain": [
       "RandomizedSearchCV(cv=3, error_score='raise-deprecating',\n",
       "          estimator=RandomForestRegressor(bootstrap=True, criterion='mse', max_depth=None,\n",
       "           max_features='auto', max_leaf_nodes=None,\n",
       "           min_impurity_decrease=0.0, min_impurity_split=None,\n",
       "           min_samples_leaf=1, min_samples_split=2,\n",
       "           min_weight_fraction_leaf=0.0, n_estimators='warn', n_jobs=None,\n",
       "           oob_score=False, random_state=None, verbose=0, warm_start=False),\n",
       "          fit_params=None, iid='warn', n_iter=25, n_jobs=-1,\n",
       "          param_distributions={'n_estimators': [200, 400, 600, 800, 1000, 1200, 1400, 1600, 1800, 2000], 'max_features': ['auto', 'sqrt'], 'max_depth': [10, 20, 30, 40, 50, 60, 70, 80, 90, 100, 110, None], 'min_samples_split': [2, 5, 10], 'min_samples_leaf': [1, 2, 4], 'bootstrap': [True, False]},\n",
       "          pre_dispatch='2*n_jobs', random_state=42, refit=True,\n",
       "          return_train_score='warn', scoring=None, verbose=2)"
      ]
     },
     "execution_count": 220,
     "metadata": {},
     "output_type": "execute_result"
    }
   ],
   "source": [
    "# Use the random grid to search for best hyperparameters\n",
    "# First create the base model to tune\n",
    "rf = RandomForestRegressor(random_state=42)\n",
    "#rf = RandomForestClassifier()\n",
    "# Random search of parameters, using 3 fold cross validation, \n",
    "# search across 100 different combinations, and use all available cores\n",
    "rf_random = RandomizedSearchCV(estimator = rf, param_distributions = random_grid, n_iter = 100, cv = 3, verbose=2, random_state=42, n_jobs = -1)\n",
    "# Fit the random search model\n",
    "rf_random.fit(X_train, y_train)"
   ]
  },
  {
   "cell_type": "code",
   "execution_count": 221,
   "metadata": {},
   "outputs": [
    {
     "data": {
      "text/plain": [
       "{'n_estimators': 200,\n",
       " 'min_samples_split': 5,\n",
       " 'min_samples_leaf': 2,\n",
       " 'max_features': 'sqrt',\n",
       " 'max_depth': 10,\n",
       " 'bootstrap': True}"
      ]
     },
     "execution_count": 221,
     "metadata": {},
     "output_type": "execute_result"
    }
   ],
   "source": [
    "rf_random.best_params_"
   ]
  },
  {
   "cell_type": "code",
   "execution_count": null,
   "metadata": {},
   "outputs": [],
   "source": [
    "try:\n",
    "    for key, value in grid_best_param.items():\n",
    "        best_param = rf_random.best_params_[key]\n",
    "        if best_param not in value:\n",
    "            value.append(rf_random.best_params_[key])\n",
    "except:\n",
    "    grid_best_param = {key: [value] for key, value in rf_random.best_params_.items()}"
   ]
  },
  {
   "cell_type": "code",
   "execution_count": null,
   "metadata": {},
   "outputs": [],
   "source": [
    "rf = RandomForestRegressor()\n",
    "rf_grid = GridSearchCV(estimator = rf, param_grid = grid_best_param, cv = 3, n_jobs = -1)\n",
    "rf_grid.fit(X_train, y_train)"
   ]
  },
  {
   "cell_type": "code",
   "execution_count": null,
   "metadata": {},
   "outputs": [],
   "source": [
    "rf_grid.best_params_"
   ]
  },
  {
   "cell_type": "code",
   "execution_count": null,
   "metadata": {},
   "outputs": [],
   "source": [
    "# Fill in the rf_grid.best_params_\n",
    "rf = RandomForestRegressor(n_estimators = , min_samples_split = , min_samples_leaf = , max_depth = , max_features = , bootstrap = True)\n",
    "rf.fit(X_train, y_train)"
   ]
  },
  {
   "cell_type": "code",
   "execution_count": null,
   "metadata": {},
   "outputs": [],
   "source": [
    "rf.score(X_test, y_test)"
   ]
  },
  {
   "cell_type": "code",
   "execution_count": 31,
   "metadata": {},
   "outputs": [
    {
     "name": "stdout",
     "output_type": "stream",
     "text": [
      "{1: ['one', 'hi'], 2: ['three']}\n"
     ]
    }
   ],
   "source": [
    "# # Test\n",
    "# d = {1: [\"one\"], 2: [\"three\"]}\n",
    "# d1 = {1: 'hi', 2: \"three\"}\n",
    "\n",
    "# # try:\n",
    "# for key, value in d.items():\n",
    "#     best_param = d1[key]\n",
    "#     if best_param not in value:\n",
    "#         value.append(d1[key])\n",
    "\n",
    "# print(d)\n",
    "# # d = {key:  for key, value in d.items()}\n",
    "# # # except:\n",
    "# # #     d = {key: [value] for key, value in d.items()}\n",
    "# # print(d)"
   ]
  }
 ],
 "metadata": {
  "kernelspec": {
   "display_name": "Python 3",
   "language": "python",
   "name": "python3"
  },
  "language_info": {
   "codemirror_mode": {
    "name": "ipython",
    "version": 3
   },
   "file_extension": ".py",
   "mimetype": "text/x-python",
   "name": "python",
   "nbconvert_exporter": "python",
   "pygments_lexer": "ipython3",
   "version": "3.7.9"
  }
 },
 "nbformat": 4,
 "nbformat_minor": 2
}
