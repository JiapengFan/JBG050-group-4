{
 "cells": [
  {
   "cell_type": "code",
   "execution_count": 2,
   "metadata": {},
   "outputs": [],
   "source": [
    "import joblib\n",
    "import pandas as pd\n",
    "import numpy as np\n",
    "from sklearn.preprocessing import OneHotEncoder\n",
    "from sklearn import metrics"
   ]
  },
  {
   "cell_type": "code",
   "execution_count": 3,
   "metadata": {},
   "outputs": [],
   "source": [
    "def forest_variables(total_data, productEncoder):\n",
    "    prices = total_data['price']\n",
    "    sales = total_data['sales']\n",
    "    sizes = total_data['size']\n",
    "    months = total_data['month']\n",
    "    simulprom = total_data['simul_promotions']\n",
    "    subst_prom = total_data['substitute_promotions']\n",
    "    days_inbetween = total_data['days_inbetween']\n",
    "    holidays = total_data['holiday']\n",
    "    products = np.array(total_data['product']).reshape(-1, 1)\n",
    "    products = productEncoder.transform(products).toarray().tolist()\n",
    "    \n",
    "    zipped = zip(prices, sizes, days_inbetween, months, subst_prom, simulprom, holidays)\n",
    "    x_variables = [list(a) for a in zipped]\n",
    "    x_variables = list(map(list.__add__, x_variables, products))\n",
    "    y_variables = sales\n",
    "    \n",
    "    return x_variables, y_variables"
   ]
  },
  {
   "cell_type": "code",
   "execution_count": 4,
   "metadata": {},
   "outputs": [],
   "source": [
    "# load model\n",
    "rfr = joblib.load(\"./random_forest/best_model.joblib\")\n",
    "\n",
    "# Load train and test data set\n",
    "train_df = pd.read_csv('./test_train_data/train.csv')\n",
    "test_df = pd.read_csv('./test_train_data/test.csv')"
   ]
  },
  {
   "cell_type": "code",
   "execution_count": 4,
   "metadata": {},
   "outputs": [],
   "source": [
    "unique_products = train_df['product'].unique().reshape(-1, 1)\n",
    "\n",
    "productEncoder = OneHotEncoder(dtype=int).fit(unique_products)\n",
    "productEncoder = productEncoder.fit(unique_products)\n",
    "\n",
    "X_train, y_train = forest_variables(train_df, productEncoder)\n",
    "X_test, y_test = forest_variables(test_df, productEncoder)"
   ]
  },
  {
   "cell_type": "code",
   "execution_count": 5,
   "metadata": {},
   "outputs": [],
   "source": [
    "# Predict here\n",
    "y_pred = rfr.predict(X_test)\n",
    "rmse = np.sqrt(metrics.mean_squared_error(y_test, y_pred))"
   ]
  },
  {
   "cell_type": "code",
   "execution_count": 6,
   "metadata": {},
   "outputs": [
    {
     "data": {
      "text/plain": [
       "7.10899319577977"
      ]
     },
     "execution_count": 6,
     "metadata": {},
     "output_type": "execute_result"
    }
   ],
   "source": [
    "rmse"
   ]
  },
  {
   "cell_type": "markdown",
   "metadata": {},
   "source": [
    "# Visualization"
   ]
  },
  {
   "cell_type": "code",
   "execution_count": 5,
   "metadata": {},
   "outputs": [],
   "source": [
    "from matplotlib import pyplot as plt"
   ]
  },
  {
   "cell_type": "code",
   "execution_count": 75,
   "metadata": {},
   "outputs": [],
   "source": [
    "data_products = pd.read_csv(\"./data/products.csv\")"
   ]
  },
  {
   "cell_type": "code",
   "execution_count": 76,
   "metadata": {},
   "outputs": [],
   "source": [
    "def forest_variables_single_product(product_data, productEncoder):\n",
    "    prices = product_data['price']\n",
    "    sales = product_data['sales']\n",
    "    sizes = product_data['size']\n",
    "    months = product_data['month']\n",
    "    simulprom = product_data['simul_promotions']\n",
    "    subst_prom = product_data['substitute_promotions']\n",
    "    days_inbetween = product_data['days_inbetween']\n",
    "    holidays = product_data['holiday']\n",
    "    products = np.array(product_data['product']).reshape(-1, 1)\n",
    "    products = productEncoder.transform(products).toarray().tolist()\n",
    "    \n",
    "    zipped = zip(prices, sizes, days_inbetween, months, subst_prom, simulprom, holidays)\n",
    "    x_variables = [list(a) for a in zipped]\n",
    "    x_variables = list(map(list.__add__, x_variables, products))\n",
    "    y_variables = sales\n",
    "    \n",
    "    return x_variables, y_variables"
   ]
  },
  {
   "cell_type": "code",
   "execution_count": 77,
   "metadata": {},
   "outputs": [],
   "source": [
    "unique_products = train_df['product'].unique().reshape(-1, 1)\n",
    "\n",
    "productEncoder = OneHotEncoder(dtype=int).fit(unique_products)\n",
    "productEncoder = productEncoder.fit(unique_products)\n",
    "\n",
    "rmse = []\n",
    "products = []\n",
    "\n",
    "for product in unique_products.reshape(-1):\n",
    "    products.append(product)\n",
    "    \n",
    "    product_df = test_df[test_df['product'] == product]\n",
    "    x_test, y_test = forest_variables_single_product(product_df, productEncoder)\n",
    "    \n",
    "    # Predict here\n",
    "    y_pred = rfr.predict(x_test)\n",
    "    product_rmse = np.sqrt(metrics.mean_squared_error(y_test, y_pred))\n",
    "    \n",
    "    rmse.append(product_rmse)"
   ]
  },
  {
   "cell_type": "code",
   "execution_count": 78,
   "metadata": {},
   "outputs": [
    {
     "data": {
      "text/plain": [
       "array([ 3.,  8.,  7.,  6.,  7.,  5.,  5.,  6.,  5., 10.,  8.,  9.,  6.,\n",
       "        4.,  5.,  9.,  6., 10., 12.,  7.,  8.,  6., 10.,  7.,  8.,  8.,\n",
       "        6.,  6.,  7.,  4.,  4., 10.,  6.,  7.,  7.])"
      ]
     },
     "execution_count": 78,
     "metadata": {},
     "output_type": "execute_result"
    }
   ],
   "source": [
    "rmse = np.around(rmse)\n",
    "rmse"
   ]
  },
  {
   "cell_type": "code",
   "execution_count": 79,
   "metadata": {},
   "outputs": [
    {
     "data": {
      "text/plain": [
       "['Biologische rode kool',\n",
       " 'Rucola',\n",
       " 'Witlof',\n",
       " 'Basis sperziebonen',\n",
       " 'Basis erwten zeer fijn',\n",
       " 'Biologische cherry tomaten',\n",
       " 'Biologische Bloemkool',\n",
       " 'Basis Maiskorrels',\n",
       " 'Paprika',\n",
       " 'Pompoen stukjes',\n",
       " 'Buitenbeentjes paprika',\n",
       " 'Courgette',\n",
       " 'Nasi bami Vegetable',\n",
       " 'Biologische knoflook',\n",
       " 'Biologische courgette',\n",
       " 'WokVegetable thais',\n",
       " 'SnoepVegetable tomaat',\n",
       " 'Spruiten',\n",
       " 'Buitenbeentjes komkommer',\n",
       " 'Basis Rode kool met appel',\n",
       " 'Geschrapte worteltjes',\n",
       " 'SnoepVegetable worteltjes',\n",
       " 'Snijbonen',\n",
       " 'Komkommer',\n",
       " 'Boerenkool gesneden',\n",
       " 'Basis worteltjes fijn',\n",
       " 'Wortelen',\n",
       " 'Biologische brocolli',\n",
       " 'Basis Sperziebonen',\n",
       " 'Biologische prei',\n",
       " 'Biologische pompoen',\n",
       " 'Verse zuurkool',\n",
       " 'Biologische kikkererwten',\n",
       " 'Buitenbeentjes puntpaprika',\n",
       " 'Paprika Mix']"
      ]
     },
     "execution_count": 79,
     "metadata": {},
     "output_type": "execute_result"
    }
   ],
   "source": [
    "products"
   ]
  },
  {
   "cell_type": "code",
   "execution_count": 80,
   "metadata": {},
   "outputs": [],
   "source": [
    "waste_df = pd.read_csv('./derivative_data/waste_03pm.csv')\n",
    "waste = waste_df.filter(products)\n",
    "waste_vegatables = np.around(waste.mean().reindex(products).tolist())\n",
    "\n",
    "useful_products = []\n",
    "useful_rmse = []\n",
    "for idx, _ in enumerate(waste_vegatables):\n",
    "    if waste_vegatables[idx] > rmse[idx]:\n",
    "        useful_rmse.append(rmse[idx])\n",
    "        useful_products.append(products[idx])"
   ]
  },
  {
   "cell_type": "code",
   "execution_count": 81,
   "metadata": {},
   "outputs": [
    {
     "data": {
      "text/plain": [
       "array([13.,  7.,  6.,  7.,  8., 11., 11., 11.,  4.,  6.,  4.,  5.,  5.,\n",
       "       11., 14.,  5.,  7.,  5.,  5., 10.,  6., 10.,  5.,  7.,  7.,  6.,\n",
       "        5., 13.,  6., 13., 12.,  5., 11.,  5.,  3.])"
      ]
     },
     "execution_count": 81,
     "metadata": {},
     "output_type": "execute_result"
    }
   ],
   "source": [
    "waste_vegatables"
   ]
  },
  {
   "cell_type": "code",
   "execution_count": 101,
   "metadata": {},
   "outputs": [],
   "source": [
    "waste_useful_vegetables = np.around(waste.mean().reindex(useful_products)).tolist()"
   ]
  },
  {
   "cell_type": "code",
   "execution_count": 83,
   "metadata": {},
   "outputs": [
    {
     "data": {
      "text/plain": [
       "15"
      ]
     },
     "execution_count": 83,
     "metadata": {},
     "output_type": "execute_result"
    }
   ],
   "source": [
    "len(waste_useful_vegetables)"
   ]
  },
  {
   "cell_type": "code",
   "execution_count": 84,
   "metadata": {},
   "outputs": [],
   "source": [
    "waste_df = pd.read_csv('./derivative_data/waste_03pm.csv')\n",
    "waste = waste_df.filter(products)"
   ]
  },
  {
   "cell_type": "code",
   "execution_count": 85,
   "metadata": {},
   "outputs": [
    {
     "data": {
      "text/plain": [
       "Basis sperziebonen             724.0\n",
       "SnoepVegetable tomaat          753.0\n",
       "Basis erwten zeer fijn         872.0\n",
       "SnoepVegetable worteltjes      995.0\n",
       "Basis Rode kool met appel     1017.0\n",
       "Biologische kikkererwten      1085.0\n",
       "Biologische knoflook          1096.0\n",
       "Basis Maiskorrels             1120.0\n",
       "Biologische Bloemkool         1131.0\n",
       "Biologische cherry tomaten    1180.0\n",
       "Biologische pompoen           1219.0\n",
       "Biologische rode kool         1341.0\n",
       "Biologische prei              1378.0\n",
       "Biologische brocolli          1383.0\n",
       "Biologische courgette         1416.0\n",
       "dtype: float64"
      ]
     },
     "execution_count": 85,
     "metadata": {},
     "output_type": "execute_result"
    }
   ],
   "source": [
    "waste.sum().reindex(useful_products).sort_values()"
   ]
  },
  {
   "cell_type": "code",
   "execution_count": 86,
   "metadata": {},
   "outputs": [],
   "source": [
    "top6 = waste.sum().sort_values().nlargest(6).index"
   ]
  },
  {
   "cell_type": "code",
   "execution_count": 87,
   "metadata": {},
   "outputs": [
    {
     "data": {
      "text/plain": [
       "Index(['Biologische courgette', 'Biologische brocolli', 'Biologische prei',\n",
       "       'Biologische rode kool', 'Biologische pompoen',\n",
       "       'Biologische cherry tomaten'],\n",
       "      dtype='object')"
      ]
     },
     "execution_count": 87,
     "metadata": {},
     "output_type": "execute_result"
    }
   ],
   "source": [
    "top6"
   ]
  },
  {
   "cell_type": "code",
   "execution_count": 88,
   "metadata": {},
   "outputs": [],
   "source": [
    "indices = [j for i, _ in enumerate(top6) for j, _ in enumerate(useful_products) if top6[i] == useful_products[j]]"
   ]
  },
  {
   "cell_type": "code",
   "execution_count": 91,
   "metadata": {},
   "outputs": [
    {
     "data": {
      "text/plain": [
       "array([5., 6., 4., 3., 4., 5.])"
      ]
     },
     "execution_count": 91,
     "metadata": {},
     "output_type": "execute_result"
    }
   ],
   "source": [
    "np.array(useful_rmse)[indices]"
   ]
  },
  {
   "cell_type": "code",
   "execution_count": 92,
   "metadata": {},
   "outputs": [
    {
     "data": {
      "text/plain": [
       "array([11.,  5.,  5., 13., 11.,  7.])"
      ]
     },
     "execution_count": 92,
     "metadata": {},
     "output_type": "execute_result"
    }
   ],
   "source": [
    "waste_vegatables[indices]"
   ]
  },
  {
   "cell_type": "code",
   "execution_count": 94,
   "metadata": {},
   "outputs": [
    {
     "data": {
      "text/html": [
       "<div>\n",
       "<style scoped>\n",
       "    .dataframe tbody tr th:only-of-type {\n",
       "        vertical-align: middle;\n",
       "    }\n",
       "\n",
       "    .dataframe tbody tr th {\n",
       "        vertical-align: top;\n",
       "    }\n",
       "\n",
       "    .dataframe thead th {\n",
       "        text-align: right;\n",
       "    }\n",
       "</style>\n",
       "<table border=\"1\" class=\"dataframe\">\n",
       "  <thead>\n",
       "    <tr style=\"text-align: right;\">\n",
       "      <th></th>\n",
       "      <th>Random forest</th>\n",
       "      <th>Reality</th>\n",
       "    </tr>\n",
       "  </thead>\n",
       "  <tbody>\n",
       "    <tr>\n",
       "      <th>Biologische courgette</th>\n",
       "      <td>5.0</td>\n",
       "      <td>11.0</td>\n",
       "    </tr>\n",
       "    <tr>\n",
       "      <th>Biologische brocolli</th>\n",
       "      <td>6.0</td>\n",
       "      <td>5.0</td>\n",
       "    </tr>\n",
       "    <tr>\n",
       "      <th>Biologische prei</th>\n",
       "      <td>4.0</td>\n",
       "      <td>5.0</td>\n",
       "    </tr>\n",
       "    <tr>\n",
       "      <th>Biologische rode kool</th>\n",
       "      <td>3.0</td>\n",
       "      <td>13.0</td>\n",
       "    </tr>\n",
       "    <tr>\n",
       "      <th>Biologische pompoen</th>\n",
       "      <td>4.0</td>\n",
       "      <td>11.0</td>\n",
       "    </tr>\n",
       "    <tr>\n",
       "      <th>Biologische cherry tomaten</th>\n",
       "      <td>5.0</td>\n",
       "      <td>7.0</td>\n",
       "    </tr>\n",
       "  </tbody>\n",
       "</table>\n",
       "</div>"
      ],
      "text/plain": [
       "                            Random forest  Reality\n",
       "Biologische courgette                 5.0     11.0\n",
       "Biologische brocolli                  6.0      5.0\n",
       "Biologische prei                      4.0      5.0\n",
       "Biologische rode kool                 3.0     13.0\n",
       "Biologische pompoen                   4.0     11.0\n",
       "Biologische cherry tomaten            5.0      7.0"
      ]
     },
     "execution_count": 94,
     "metadata": {},
     "output_type": "execute_result"
    }
   ],
   "source": [
    "stacked = np.stack([np.array(useful_rmse)[indices], waste_vegatables[indices]], axis = 1)\n",
    "bar_df = pd.DataFrame(stacked, top6, ['Random forest', 'Reality'])\n",
    "bar_df"
   ]
  },
  {
   "cell_type": "code",
   "execution_count": 133,
   "metadata": {},
   "outputs": [
    {
     "data": {
      "text/plain": [
       "<matplotlib.legend.Legend at 0x1bc10fc0348>"
      ]
     },
     "execution_count": 133,
     "metadata": {},
     "output_type": "execute_result"
    },
    {
     "data": {
      "image/png": "[encoded data removed]",
      "text/plain": [
       "<Figure size 432x288 with 1 Axes>"
      ]
     },
     "metadata": {
      "needs_background": "light"
     },
     "output_type": "display_data"
    }
   ],
   "source": [
    "bar_df.plot(kind=\"barh\")\n",
    "plt.title(\"Average waste between deliveries\")\n",
    "plt.xlabel(\"Expected/Actual waste\")\n",
    "plt.ylabel(\"6 most wasted vegetables\")\n",
    "plt.legend(bbox_to_anchor=(1.01, 1), loc='upper left')"
   ]
  },
  {
   "cell_type": "code",
   "execution_count": 96,
   "metadata": {},
   "outputs": [
    {
     "data": {
      "text/plain": [
       "array([13.,  7.,  6.,  7.,  8., 11., 11., 11.,  4.,  6.,  4.,  5.,  5.,\n",
       "       11., 14.,  5.,  7.,  5.,  5., 10.,  6., 10.,  5.,  7.,  7.,  6.,\n",
       "        5., 13.,  6., 13., 12.,  5., 11.,  5.,  3.])"
      ]
     },
     "execution_count": 96,
     "metadata": {},
     "output_type": "execute_result"
    }
   ],
   "source": [
    "waste_vegatables"
   ]
  },
  {
   "cell_type": "code",
   "execution_count": 98,
   "metadata": {},
   "outputs": [
    {
     "data": {
      "text/plain": [
       "[3.0, 6.0, 7.0, 5.0, 5.0, 6.0, 4.0, 5.0, 6.0, 7.0, 6.0, 6.0, 4.0, 4.0, 6.0]"
      ]
     },
     "execution_count": 98,
     "metadata": {},
     "output_type": "execute_result"
    }
   ],
   "source": [
    "useful_rmse"
   ]
  },
  {
   "cell_type": "code",
   "execution_count": 107,
   "metadata": {},
   "outputs": [],
   "source": [
    "saved = np.array(waste_useful_vegetables) - np.array(useful_rmse)"
   ]
  },
  {
   "cell_type": "code",
   "execution_count": 108,
   "metadata": {},
   "outputs": [
    {
     "data": {
      "text/plain": [
       "array([10.,  1.,  1.,  6.,  6.,  5.,  7.,  9.,  1.,  3.,  4.,  7.,  9.,\n",
       "        8.,  5.])"
      ]
     },
     "execution_count": 108,
     "metadata": {},
     "output_type": "execute_result"
    }
   ],
   "source": [
    "saved"
   ]
  },
  {
   "cell_type": "code",
   "execution_count": 50,
   "metadata": {},
   "outputs": [
    {
     "data": {
      "text/plain": [
       "['Biologische rode kool',\n",
       " 'Basis sperziebonen',\n",
       " 'Basis erwten zeer fijn',\n",
       " 'Biologische cherry tomaten',\n",
       " 'Biologische Bloemkool',\n",
       " 'Basis Maiskorrels',\n",
       " 'Biologische knoflook',\n",
       " 'Biologische courgette',\n",
       " 'SnoepVegetable tomaat',\n",
       " 'Basis Rode kool met appel',\n",
       " 'SnoepVegetable worteltjes',\n",
       " 'Biologische brocolli',\n",
       " 'Biologische prei',\n",
       " 'Biologische pompoen',\n",
       " 'Biologische kikkererwten']"
      ]
     },
     "execution_count": 50,
     "metadata": {},
     "output_type": "execute_result"
    }
   ],
   "source": [
    "useful_products"
   ]
  },
  {
   "cell_type": "code",
   "execution_count": 55,
   "metadata": {},
   "outputs": [
    {
     "data": {
      "text/html": [
       "<div>\n",
       "<style scoped>\n",
       "    .dataframe tbody tr th:only-of-type {\n",
       "        vertical-align: middle;\n",
       "    }\n",
       "\n",
       "    .dataframe tbody tr th {\n",
       "        vertical-align: top;\n",
       "    }\n",
       "\n",
       "    .dataframe thead th {\n",
       "        text-align: right;\n",
       "    }\n",
       "</style>\n",
       "<table border=\"1\" class=\"dataframe\">\n",
       "  <thead>\n",
       "    <tr style=\"text-align: right;\">\n",
       "      <th></th>\n",
       "      <th>category</th>\n",
       "      <th>product_id</th>\n",
       "      <th>description</th>\n",
       "      <th>size</th>\n",
       "      <th>std_sales_price</th>\n",
       "      <th>bio</th>\n",
       "      <th>basic</th>\n",
       "    </tr>\n",
       "  </thead>\n",
       "  <tbody>\n",
       "    <tr>\n",
       "      <th>0</th>\n",
       "      <td>vegetable</td>\n",
       "      <td>v_1</td>\n",
       "      <td>Komkommer</td>\n",
       "      <td>1st</td>\n",
       "      <td>0.69</td>\n",
       "      <td>0</td>\n",
       "      <td>0</td>\n",
       "    </tr>\n",
       "    <tr>\n",
       "      <th>1</th>\n",
       "      <td>vegetable</td>\n",
       "      <td>v_2</td>\n",
       "      <td>Courgette</td>\n",
       "      <td>1st</td>\n",
       "      <td>0.75</td>\n",
       "      <td>0</td>\n",
       "      <td>0</td>\n",
       "    </tr>\n",
       "    <tr>\n",
       "      <th>2</th>\n",
       "      <td>vegetable</td>\n",
       "      <td>v_3</td>\n",
       "      <td>SnoepVegetable tomaat</td>\n",
       "      <td>500g</td>\n",
       "      <td>1.99</td>\n",
       "      <td>0</td>\n",
       "      <td>0</td>\n",
       "    </tr>\n",
       "    <tr>\n",
       "      <th>3</th>\n",
       "      <td>vegetable</td>\n",
       "      <td>v_4</td>\n",
       "      <td>Paprika Mix</td>\n",
       "      <td>3st</td>\n",
       "      <td>1.79</td>\n",
       "      <td>0</td>\n",
       "      <td>0</td>\n",
       "    </tr>\n",
       "    <tr>\n",
       "      <th>4</th>\n",
       "      <td>vegetable</td>\n",
       "      <td>v_5</td>\n",
       "      <td>Paprika</td>\n",
       "      <td>1st</td>\n",
       "      <td>0.99</td>\n",
       "      <td>0</td>\n",
       "      <td>0</td>\n",
       "    </tr>\n",
       "    <tr>\n",
       "      <th>...</th>\n",
       "      <td>...</td>\n",
       "      <td>...</td>\n",
       "      <td>...</td>\n",
       "      <td>...</td>\n",
       "      <td>...</td>\n",
       "      <td>...</td>\n",
       "      <td>...</td>\n",
       "    </tr>\n",
       "    <tr>\n",
       "      <th>150</th>\n",
       "      <td>snack</td>\n",
       "      <td>s_4</td>\n",
       "      <td>Bakkersspeculaas</td>\n",
       "      <td>1st</td>\n",
       "      <td>0.81</td>\n",
       "      <td>0</td>\n",
       "      <td>1</td>\n",
       "    </tr>\n",
       "    <tr>\n",
       "      <th>151</th>\n",
       "      <td>snack</td>\n",
       "      <td>s_5</td>\n",
       "      <td>Eierkoeken</td>\n",
       "      <td>4st</td>\n",
       "      <td>1.79</td>\n",
       "      <td>0</td>\n",
       "      <td>0</td>\n",
       "    </tr>\n",
       "    <tr>\n",
       "      <th>152</th>\n",
       "      <td>snack</td>\n",
       "      <td>s_6</td>\n",
       "      <td>Ribbelchips naturel</td>\n",
       "      <td>250g</td>\n",
       "      <td>0.99</td>\n",
       "      <td>0</td>\n",
       "      <td>1</td>\n",
       "    </tr>\n",
       "    <tr>\n",
       "      <th>153</th>\n",
       "      <td>snack</td>\n",
       "      <td>s_7</td>\n",
       "      <td>Ribbelchips paprika</td>\n",
       "      <td>250g</td>\n",
       "      <td>0.99</td>\n",
       "      <td>0</td>\n",
       "      <td>1</td>\n",
       "    </tr>\n",
       "    <tr>\n",
       "      <th>154</th>\n",
       "      <td>snack</td>\n",
       "      <td>s_8</td>\n",
       "      <td>Doritos sweet chili</td>\n",
       "      <td>185g</td>\n",
       "      <td>1.59</td>\n",
       "      <td>0</td>\n",
       "      <td>0</td>\n",
       "    </tr>\n",
       "  </tbody>\n",
       "</table>\n",
       "<p>155 rows × 7 columns</p>\n",
       "</div>"
      ],
      "text/plain": [
       "      category product_id            description  size  std_sales_price  bio  \\\n",
       "0    vegetable        v_1              Komkommer   1st             0.69    0   \n",
       "1    vegetable        v_2              Courgette   1st             0.75    0   \n",
       "2    vegetable        v_3  SnoepVegetable tomaat  500g             1.99    0   \n",
       "3    vegetable        v_4            Paprika Mix   3st             1.79    0   \n",
       "4    vegetable        v_5                Paprika   1st             0.99    0   \n",
       "..         ...        ...                    ...   ...              ...  ...   \n",
       "150      snack        s_4       Bakkersspeculaas   1st             0.81    0   \n",
       "151      snack        s_5             Eierkoeken   4st             1.79    0   \n",
       "152      snack        s_6    Ribbelchips naturel  250g             0.99    0   \n",
       "153      snack        s_7    Ribbelchips paprika  250g             0.99    0   \n",
       "154      snack        s_8    Doritos sweet chili  185g             1.59    0   \n",
       "\n",
       "     basic  \n",
       "0        0  \n",
       "1        0  \n",
       "2        0  \n",
       "3        0  \n",
       "4        0  \n",
       "..     ...  \n",
       "150      1  \n",
       "151      0  \n",
       "152      1  \n",
       "153      1  \n",
       "154      0  \n",
       "\n",
       "[155 rows x 7 columns]"
      ]
     },
     "execution_count": 55,
     "metadata": {},
     "output_type": "execute_result"
    }
   ],
   "source": [
    "data_products"
   ]
  },
  {
   "cell_type": "code",
   "execution_count": 109,
   "metadata": {},
   "outputs": [],
   "source": [
    "series_cost_data = data_products[data_products['category'] == 'vegetable'].set_index('description')['std_sales_price'].reindex(useful_products)"
   ]
  },
  {
   "cell_type": "code",
   "execution_count": 114,
   "metadata": {},
   "outputs": [
    {
     "data": {
      "text/plain": [
       "description\n",
       "Biologische rode kool         1.29\n",
       "Basis sperziebonen            0.89\n",
       "Basis erwten zeer fijn        0.97\n",
       "Biologische cherry tomaten    1.59\n",
       "Biologische Bloemkool         2.39\n",
       "Basis Maiskorrels             0.75\n",
       "Biologische knoflook          0.69\n",
       "Biologische courgette         1.69\n",
       "SnoepVegetable tomaat         1.99\n",
       "Basis Rode kool met appel     0.65\n",
       "SnoepVegetable worteltjes     0.99\n",
       "Biologische brocolli          1.79\n",
       "Biologische prei              0.85\n",
       "Biologische pompoen           2.50\n",
       "Biologische kikkererwten      0.92\n",
       "Name: std_sales_price, dtype: float64"
      ]
     },
     "execution_count": 114,
     "metadata": {},
     "output_type": "execute_result"
    }
   ],
   "source": [
    "series_cost_data"
   ]
  },
  {
   "cell_type": "code",
   "execution_count": 125,
   "metadata": {},
   "outputs": [],
   "source": [
    "saved_df = pd.DataFrame(saved, useful_products)\n",
    "saved_df = saved_df.multiply(series_cost_data, axis=0)\n",
    "saved_df = saved_df.sort_values(by = [0], ascending=False)"
   ]
  },
  {
   "cell_type": "code",
   "execution_count": 131,
   "metadata": {},
   "outputs": [
    {
     "data": {
      "text/plain": [
       "0    115.11\n",
       "dtype: float64"
      ]
     },
     "execution_count": 131,
     "metadata": {},
     "output_type": "execute_result"
    }
   ],
   "source": [
    "saved_df.sum()"
   ]
  },
  {
   "cell_type": "code",
   "execution_count": 136,
   "metadata": {},
   "outputs": [
    {
     "data": {
      "text/plain": [
       "Text(0, 0.5, 'Product name')"
      ]
     },
     "execution_count": 136,
     "metadata": {},
     "output_type": "execute_result"
    },
    {
     "data": {
      "image/png": "[encoded data removed]",
      "text/plain": [
       "<Figure size 432x288 with 1 Axes>"
      ]
     },
     "metadata": {
      "needs_background": "light"
     },
     "output_type": "display_data"
    }
   ],
   "source": [
    "saved_df.plot(kind=\"barh\", legend=None)\n",
    "plt.title(\"Indicative financial gain between deliveries on average\")\n",
    "plt.xlabel(\"Saved euros\")\n",
    "plt.ylabel(\"Product name\")"
   ]
  },
  {
   "cell_type": "code",
   "execution_count": 128,
   "metadata": {},
   "outputs": [],
   "source": [
    "saved_df_year = saved_df * waste.shape[0] - 1"
   ]
  },
  {
   "cell_type": "code",
   "execution_count": 137,
   "metadata": {},
   "outputs": [
    {
     "data": {
      "text/plain": [
       "Text(0, 0.5, 'Product name')"
      ]
     },
     "execution_count": 137,
     "metadata": {},
     "output_type": "execute_result"
    },
    {
     "data": {
      "image/png": "[encoded data removed]",
      "text/plain": [
       "<Figure size 432x288 with 1 Axes>"
      ]
     },
     "metadata": {
      "needs_background": "light"
     },
     "output_type": "display_data"
    }
   ],
   "source": [
    "saved_df_year.plot(kind=\"barh\", legend=None)\n",
    "plt.title(\"Indicative financial gain on yearly basis\")\n",
    "plt.xlabel(\"Saved euros\")\n",
    "plt.ylabel(\"Product name\")"
   ]
  },
  {
   "cell_type": "code",
   "execution_count": 130,
   "metadata": {},
   "outputs": [
    {
     "data": {
      "text/plain": [
       "0    11841.33\n",
       "dtype: float64"
      ]
     },
     "execution_count": 130,
     "metadata": {},
     "output_type": "execute_result"
    }
   ],
   "source": [
    "saved_df_year.sum()"
   ]
  },
  {
   "cell_type": "code",
   "execution_count": 111,
   "metadata": {},
   "outputs": [],
   "source": [
    "waste_df = pd.read_csv('./derivative_data/waste_03pm.csv')\n",
    "waste = waste_df.filter(products)\n",
    "\n",
    "useful_products = []\n",
    "useful_rmse = []\n",
    "for idx, waste in enumerate(waste_vegatables):\n",
    "    if waste_vegatables[idx] > rmse[idx]:\n",
    "        useful_rmse.append(rmse[idx])\n",
    "        useful_products.append(products[idx])"
   ]
  },
  {
   "cell_type": "code",
   "execution_count": 112,
   "metadata": {},
   "outputs": [
    {
     "data": {
      "text/plain": [
       "['Biologische rode kool',\n",
       " 'Witlof',\n",
       " 'Basis sperziebonen',\n",
       " 'Basis erwten zeer fijn',\n",
       " 'Biologische cherry tomaten',\n",
       " 'Biologische Bloemkool',\n",
       " 'Basis Maiskorrels',\n",
       " 'Paprika',\n",
       " 'Buitenbeentjes paprika',\n",
       " 'Courgette',\n",
       " 'Nasi bami Vegetable',\n",
       " 'Biologische knoflook',\n",
       " 'Biologische courgette']"
      ]
     },
     "execution_count": 112,
     "metadata": {},
     "output_type": "execute_result"
    }
   ],
   "source": [
    "useful_products"
   ]
  },
  {
   "cell_type": "code",
   "execution_count": 114,
   "metadata": {
    "scrolled": true
   },
   "outputs": [
    {
     "data": {
      "text/html": [
       "<div>\n",
       "<style scoped>\n",
       "    .dataframe tbody tr th:only-of-type {\n",
       "        vertical-align: middle;\n",
       "    }\n",
       "\n",
       "    .dataframe tbody tr th {\n",
       "        vertical-align: top;\n",
       "    }\n",
       "\n",
       "    .dataframe thead th {\n",
       "        text-align: right;\n",
       "    }\n",
       "</style>\n",
       "<table border=\"1\" class=\"dataframe\">\n",
       "  <thead>\n",
       "    <tr style=\"text-align: right;\">\n",
       "      <th></th>\n",
       "      <th>day</th>\n",
       "      <th>Komkommer</th>\n",
       "      <th>Courgette</th>\n",
       "      <th>SnoepVegetable tomaat</th>\n",
       "      <th>Paprika Mix</th>\n",
       "      <th>Paprika</th>\n",
       "      <th>Geschrapte worteltjes</th>\n",
       "      <th>Basis Sperziebonen</th>\n",
       "      <th>Basis Rode kool met appel</th>\n",
       "      <th>Basis worteltjes fijn</th>\n",
       "      <th>...</th>\n",
       "      <th>Roomboter chocolade brood</th>\n",
       "      <th>Chinois brioche</th>\n",
       "      <th>Vanille muffins (vers)</th>\n",
       "      <th>Basic chocolate chip cookies</th>\n",
       "      <th>Oreo</th>\n",
       "      <th>Bakkersspeculaas</th>\n",
       "      <th>Eierkoeken</th>\n",
       "      <th>Ribbelchips naturel</th>\n",
       "      <th>Ribbelchips paprika</th>\n",
       "      <th>Doritos sweet chili</th>\n",
       "    </tr>\n",
       "  </thead>\n",
       "  <tbody>\n",
       "    <tr>\n",
       "      <th>0</th>\n",
       "      <td>0</td>\n",
       "      <td>0.0</td>\n",
       "      <td>0.0</td>\n",
       "      <td>0.0</td>\n",
       "      <td>0.0</td>\n",
       "      <td>6.0</td>\n",
       "      <td>4.0</td>\n",
       "      <td>3.0</td>\n",
       "      <td>0.0</td>\n",
       "      <td>0.0</td>\n",
       "      <td>...</td>\n",
       "      <td>0.0</td>\n",
       "      <td>4.0</td>\n",
       "      <td>30.0</td>\n",
       "      <td>0.0</td>\n",
       "      <td>0.0</td>\n",
       "      <td>6.0</td>\n",
       "      <td>0.0</td>\n",
       "      <td>2.0</td>\n",
       "      <td>0.0</td>\n",
       "      <td>3.0</td>\n",
       "    </tr>\n",
       "    <tr>\n",
       "      <th>1</th>\n",
       "      <td>3</td>\n",
       "      <td>0.0</td>\n",
       "      <td>0.0</td>\n",
       "      <td>0.0</td>\n",
       "      <td>0.0</td>\n",
       "      <td>5.0</td>\n",
       "      <td>0.0</td>\n",
       "      <td>2.0</td>\n",
       "      <td>0.0</td>\n",
       "      <td>10.0</td>\n",
       "      <td>...</td>\n",
       "      <td>3.0</td>\n",
       "      <td>12.0</td>\n",
       "      <td>19.0</td>\n",
       "      <td>0.0</td>\n",
       "      <td>0.0</td>\n",
       "      <td>0.0</td>\n",
       "      <td>0.0</td>\n",
       "      <td>0.0</td>\n",
       "      <td>12.0</td>\n",
       "      <td>0.0</td>\n",
       "    </tr>\n",
       "    <tr>\n",
       "      <th>2</th>\n",
       "      <td>7</td>\n",
       "      <td>0.0</td>\n",
       "      <td>0.0</td>\n",
       "      <td>8.0</td>\n",
       "      <td>30.0</td>\n",
       "      <td>0.0</td>\n",
       "      <td>0.0</td>\n",
       "      <td>0.0</td>\n",
       "      <td>0.0</td>\n",
       "      <td>4.0</td>\n",
       "      <td>...</td>\n",
       "      <td>5.0</td>\n",
       "      <td>0.0</td>\n",
       "      <td>0.0</td>\n",
       "      <td>0.0</td>\n",
       "      <td>0.0</td>\n",
       "      <td>0.0</td>\n",
       "      <td>0.0</td>\n",
       "      <td>0.0</td>\n",
       "      <td>32.0</td>\n",
       "      <td>11.0</td>\n",
       "    </tr>\n",
       "    <tr>\n",
       "      <th>3</th>\n",
       "      <td>10</td>\n",
       "      <td>0.0</td>\n",
       "      <td>1.0</td>\n",
       "      <td>0.0</td>\n",
       "      <td>9.0</td>\n",
       "      <td>0.0</td>\n",
       "      <td>0.0</td>\n",
       "      <td>0.0</td>\n",
       "      <td>0.0</td>\n",
       "      <td>3.0</td>\n",
       "      <td>...</td>\n",
       "      <td>0.0</td>\n",
       "      <td>2.0</td>\n",
       "      <td>7.0</td>\n",
       "      <td>3.0</td>\n",
       "      <td>6.0</td>\n",
       "      <td>0.0</td>\n",
       "      <td>9.0</td>\n",
       "      <td>1.0</td>\n",
       "      <td>16.0</td>\n",
       "      <td>4.0</td>\n",
       "    </tr>\n",
       "    <tr>\n",
       "      <th>4</th>\n",
       "      <td>14</td>\n",
       "      <td>0.0</td>\n",
       "      <td>0.0</td>\n",
       "      <td>0.0</td>\n",
       "      <td>0.0</td>\n",
       "      <td>0.0</td>\n",
       "      <td>0.0</td>\n",
       "      <td>0.0</td>\n",
       "      <td>0.0</td>\n",
       "      <td>0.0</td>\n",
       "      <td>...</td>\n",
       "      <td>0.0</td>\n",
       "      <td>1.0</td>\n",
       "      <td>0.0</td>\n",
       "      <td>0.0</td>\n",
       "      <td>0.0</td>\n",
       "      <td>0.0</td>\n",
       "      <td>0.0</td>\n",
       "      <td>0.0</td>\n",
       "      <td>0.0</td>\n",
       "      <td>0.0</td>\n",
       "    </tr>\n",
       "    <tr>\n",
       "      <th>...</th>\n",
       "      <td>...</td>\n",
       "      <td>...</td>\n",
       "      <td>...</td>\n",
       "      <td>...</td>\n",
       "      <td>...</td>\n",
       "      <td>...</td>\n",
       "      <td>...</td>\n",
       "      <td>...</td>\n",
       "      <td>...</td>\n",
       "      <td>...</td>\n",
       "      <td>...</td>\n",
       "      <td>...</td>\n",
       "      <td>...</td>\n",
       "      <td>...</td>\n",
       "      <td>...</td>\n",
       "      <td>...</td>\n",
       "      <td>...</td>\n",
       "      <td>...</td>\n",
       "      <td>...</td>\n",
       "      <td>...</td>\n",
       "      <td>...</td>\n",
       "    </tr>\n",
       "    <tr>\n",
       "      <th>98</th>\n",
       "      <td>343</td>\n",
       "      <td>23.0</td>\n",
       "      <td>12.0</td>\n",
       "      <td>24.0</td>\n",
       "      <td>8.0</td>\n",
       "      <td>4.0</td>\n",
       "      <td>3.0</td>\n",
       "      <td>13.0</td>\n",
       "      <td>14.0</td>\n",
       "      <td>27.0</td>\n",
       "      <td>...</td>\n",
       "      <td>3.0</td>\n",
       "      <td>14.0</td>\n",
       "      <td>16.0</td>\n",
       "      <td>14.0</td>\n",
       "      <td>11.0</td>\n",
       "      <td>3.0</td>\n",
       "      <td>0.0</td>\n",
       "      <td>4.0</td>\n",
       "      <td>2.0</td>\n",
       "      <td>18.0</td>\n",
       "    </tr>\n",
       "    <tr>\n",
       "      <th>99</th>\n",
       "      <td>346</td>\n",
       "      <td>0.0</td>\n",
       "      <td>0.0</td>\n",
       "      <td>0.0</td>\n",
       "      <td>0.0</td>\n",
       "      <td>0.0</td>\n",
       "      <td>0.0</td>\n",
       "      <td>0.0</td>\n",
       "      <td>0.0</td>\n",
       "      <td>0.0</td>\n",
       "      <td>...</td>\n",
       "      <td>6.0</td>\n",
       "      <td>0.0</td>\n",
       "      <td>0.0</td>\n",
       "      <td>0.0</td>\n",
       "      <td>0.0</td>\n",
       "      <td>0.0</td>\n",
       "      <td>0.0</td>\n",
       "      <td>0.0</td>\n",
       "      <td>0.0</td>\n",
       "      <td>0.0</td>\n",
       "    </tr>\n",
       "    <tr>\n",
       "      <th>100</th>\n",
       "      <td>350</td>\n",
       "      <td>0.0</td>\n",
       "      <td>15.0</td>\n",
       "      <td>1.0</td>\n",
       "      <td>5.0</td>\n",
       "      <td>7.0</td>\n",
       "      <td>0.0</td>\n",
       "      <td>17.0</td>\n",
       "      <td>0.0</td>\n",
       "      <td>25.0</td>\n",
       "      <td>...</td>\n",
       "      <td>6.0</td>\n",
       "      <td>9.0</td>\n",
       "      <td>0.0</td>\n",
       "      <td>0.0</td>\n",
       "      <td>0.0</td>\n",
       "      <td>0.0</td>\n",
       "      <td>0.0</td>\n",
       "      <td>0.0</td>\n",
       "      <td>1.0</td>\n",
       "      <td>0.0</td>\n",
       "    </tr>\n",
       "    <tr>\n",
       "      <th>101</th>\n",
       "      <td>353</td>\n",
       "      <td>0.0</td>\n",
       "      <td>0.0</td>\n",
       "      <td>0.0</td>\n",
       "      <td>0.0</td>\n",
       "      <td>0.0</td>\n",
       "      <td>0.0</td>\n",
       "      <td>0.0</td>\n",
       "      <td>0.0</td>\n",
       "      <td>0.0</td>\n",
       "      <td>...</td>\n",
       "      <td>0.0</td>\n",
       "      <td>7.0</td>\n",
       "      <td>0.0</td>\n",
       "      <td>0.0</td>\n",
       "      <td>0.0</td>\n",
       "      <td>0.0</td>\n",
       "      <td>0.0</td>\n",
       "      <td>1.0</td>\n",
       "      <td>0.0</td>\n",
       "      <td>0.0</td>\n",
       "    </tr>\n",
       "    <tr>\n",
       "      <th>102</th>\n",
       "      <td>357</td>\n",
       "      <td>29.0</td>\n",
       "      <td>0.0</td>\n",
       "      <td>34.0</td>\n",
       "      <td>31.0</td>\n",
       "      <td>16.0</td>\n",
       "      <td>0.0</td>\n",
       "      <td>12.0</td>\n",
       "      <td>0.0</td>\n",
       "      <td>10.0</td>\n",
       "      <td>...</td>\n",
       "      <td>0.0</td>\n",
       "      <td>13.0</td>\n",
       "      <td>0.0</td>\n",
       "      <td>0.0</td>\n",
       "      <td>0.0</td>\n",
       "      <td>0.0</td>\n",
       "      <td>1.0</td>\n",
       "      <td>0.0</td>\n",
       "      <td>1.0</td>\n",
       "      <td>0.0</td>\n",
       "    </tr>\n",
       "  </tbody>\n",
       "</table>\n",
       "<p>103 rows × 152 columns</p>\n",
       "</div>"
      ],
      "text/plain": [
       "     day  Komkommer  Courgette  SnoepVegetable tomaat  Paprika Mix  Paprika  \\\n",
       "0      0        0.0        0.0                    0.0          0.0      6.0   \n",
       "1      3        0.0        0.0                    0.0          0.0      5.0   \n",
       "2      7        0.0        0.0                    8.0         30.0      0.0   \n",
       "3     10        0.0        1.0                    0.0          9.0      0.0   \n",
       "4     14        0.0        0.0                    0.0          0.0      0.0   \n",
       "..   ...        ...        ...                    ...          ...      ...   \n",
       "98   343       23.0       12.0                   24.0          8.0      4.0   \n",
       "99   346        0.0        0.0                    0.0          0.0      0.0   \n",
       "100  350        0.0       15.0                    1.0          5.0      7.0   \n",
       "101  353        0.0        0.0                    0.0          0.0      0.0   \n",
       "102  357       29.0        0.0                   34.0         31.0     16.0   \n",
       "\n",
       "     Geschrapte worteltjes  Basis Sperziebonen  Basis Rode kool met appel  \\\n",
       "0                      4.0                 3.0                        0.0   \n",
       "1                      0.0                 2.0                        0.0   \n",
       "2                      0.0                 0.0                        0.0   \n",
       "3                      0.0                 0.0                        0.0   \n",
       "4                      0.0                 0.0                        0.0   \n",
       "..                     ...                 ...                        ...   \n",
       "98                     3.0                13.0                       14.0   \n",
       "99                     0.0                 0.0                        0.0   \n",
       "100                    0.0                17.0                        0.0   \n",
       "101                    0.0                 0.0                        0.0   \n",
       "102                    0.0                12.0                        0.0   \n",
       "\n",
       "     Basis worteltjes fijn  ...  Roomboter chocolade brood  Chinois brioche  \\\n",
       "0                      0.0  ...                        0.0              4.0   \n",
       "1                     10.0  ...                        3.0             12.0   \n",
       "2                      4.0  ...                        5.0              0.0   \n",
       "3                      3.0  ...                        0.0              2.0   \n",
       "4                      0.0  ...                        0.0              1.0   \n",
       "..                     ...  ...                        ...              ...   \n",
       "98                    27.0  ...                        3.0             14.0   \n",
       "99                     0.0  ...                        6.0              0.0   \n",
       "100                   25.0  ...                        6.0              9.0   \n",
       "101                    0.0  ...                        0.0              7.0   \n",
       "102                   10.0  ...                        0.0             13.0   \n",
       "\n",
       "     Vanille muffins (vers)  Basic chocolate chip cookies  Oreo  \\\n",
       "0                      30.0                           0.0   0.0   \n",
       "1                      19.0                           0.0   0.0   \n",
       "2                       0.0                           0.0   0.0   \n",
       "3                       7.0                           3.0   6.0   \n",
       "4                       0.0                           0.0   0.0   \n",
       "..                      ...                           ...   ...   \n",
       "98                     16.0                          14.0  11.0   \n",
       "99                      0.0                           0.0   0.0   \n",
       "100                     0.0                           0.0   0.0   \n",
       "101                     0.0                           0.0   0.0   \n",
       "102                     0.0                           0.0   0.0   \n",
       "\n",
       "     Bakkersspeculaas  Eierkoeken  Ribbelchips naturel  Ribbelchips paprika  \\\n",
       "0                 6.0         0.0                  2.0                  0.0   \n",
       "1                 0.0         0.0                  0.0                 12.0   \n",
       "2                 0.0         0.0                  0.0                 32.0   \n",
       "3                 0.0         9.0                  1.0                 16.0   \n",
       "4                 0.0         0.0                  0.0                  0.0   \n",
       "..                ...         ...                  ...                  ...   \n",
       "98                3.0         0.0                  4.0                  2.0   \n",
       "99                0.0         0.0                  0.0                  0.0   \n",
       "100               0.0         0.0                  0.0                  1.0   \n",
       "101               0.0         0.0                  1.0                  0.0   \n",
       "102               0.0         1.0                  0.0                  1.0   \n",
       "\n",
       "     Doritos sweet chili  \n",
       "0                    3.0  \n",
       "1                    0.0  \n",
       "2                   11.0  \n",
       "3                    4.0  \n",
       "4                    0.0  \n",
       "..                   ...  \n",
       "98                  18.0  \n",
       "99                   0.0  \n",
       "100                  0.0  \n",
       "101                  0.0  \n",
       "102                  0.0  \n",
       "\n",
       "[103 rows x 152 columns]"
      ]
     },
     "execution_count": 114,
     "metadata": {},
     "output_type": "execute_result"
    }
   ],
   "source": [
    "waste_df"
   ]
  },
  {
   "cell_type": "code",
   "execution_count": 115,
   "metadata": {},
   "outputs": [
    {
     "data": {
      "text/html": [
       "<div>\n",
       "<style scoped>\n",
       "    .dataframe tbody tr th:only-of-type {\n",
       "        vertical-align: middle;\n",
       "    }\n",
       "\n",
       "    .dataframe tbody tr th {\n",
       "        vertical-align: top;\n",
       "    }\n",
       "\n",
       "    .dataframe thead th {\n",
       "        text-align: right;\n",
       "    }\n",
       "</style>\n",
       "<table border=\"1\" class=\"dataframe\">\n",
       "  <thead>\n",
       "    <tr style=\"text-align: right;\">\n",
       "      <th></th>\n",
       "      <th>Unnamed: 0</th>\n",
       "      <th>index</th>\n",
       "      <th>month</th>\n",
       "      <th>size</th>\n",
       "      <th>price</th>\n",
       "      <th>sales</th>\n",
       "      <th>simul_promotions</th>\n",
       "      <th>days_inbetween</th>\n",
       "      <th>substitute_promotions</th>\n",
       "      <th>holiday</th>\n",
       "      <th>category</th>\n",
       "      <th>product</th>\n",
       "    </tr>\n",
       "  </thead>\n",
       "  <tbody>\n",
       "    <tr>\n",
       "      <th>0</th>\n",
       "      <td>1672</td>\n",
       "      <td>24</td>\n",
       "      <td>3</td>\n",
       "      <td>0</td>\n",
       "      <td>0.89</td>\n",
       "      <td>15</td>\n",
       "      <td>0</td>\n",
       "      <td>3</td>\n",
       "      <td>0.0</td>\n",
       "      <td>0</td>\n",
       "      <td>vegetable</td>\n",
       "      <td>Basis Sperziebonen</td>\n",
       "    </tr>\n",
       "    <tr>\n",
       "      <th>1</th>\n",
       "      <td>1690</td>\n",
       "      <td>42</td>\n",
       "      <td>5</td>\n",
       "      <td>0</td>\n",
       "      <td>0.89</td>\n",
       "      <td>23</td>\n",
       "      <td>0</td>\n",
       "      <td>3</td>\n",
       "      <td>0.0</td>\n",
       "      <td>0</td>\n",
       "      <td>vegetable</td>\n",
       "      <td>Basis Sperziebonen</td>\n",
       "    </tr>\n",
       "    <tr>\n",
       "      <th>2</th>\n",
       "      <td>3154</td>\n",
       "      <td>64</td>\n",
       "      <td>8</td>\n",
       "      <td>0</td>\n",
       "      <td>0.69</td>\n",
       "      <td>12</td>\n",
       "      <td>0</td>\n",
       "      <td>3</td>\n",
       "      <td>0.0</td>\n",
       "      <td>0</td>\n",
       "      <td>vegetable</td>\n",
       "      <td>Biologische knoflook</td>\n",
       "    </tr>\n",
       "    <tr>\n",
       "      <th>3</th>\n",
       "      <td>71</td>\n",
       "      <td>71</td>\n",
       "      <td>9</td>\n",
       "      <td>0</td>\n",
       "      <td>1.29</td>\n",
       "      <td>33</td>\n",
       "      <td>0</td>\n",
       "      <td>4</td>\n",
       "      <td>0.0</td>\n",
       "      <td>0</td>\n",
       "      <td>vegetable</td>\n",
       "      <td>Boerenkool gesneden</td>\n",
       "    </tr>\n",
       "    <tr>\n",
       "      <th>4</th>\n",
       "      <td>984</td>\n",
       "      <td>57</td>\n",
       "      <td>7</td>\n",
       "      <td>0</td>\n",
       "      <td>2.99</td>\n",
       "      <td>36</td>\n",
       "      <td>0</td>\n",
       "      <td>4</td>\n",
       "      <td>0.0</td>\n",
       "      <td>0</td>\n",
       "      <td>vegetable</td>\n",
       "      <td>Buitenbeentjes paprika</td>\n",
       "    </tr>\n",
       "    <tr>\n",
       "      <th>...</th>\n",
       "      <td>...</td>\n",
       "      <td>...</td>\n",
       "      <td>...</td>\n",
       "      <td>...</td>\n",
       "      <td>...</td>\n",
       "      <td>...</td>\n",
       "      <td>...</td>\n",
       "      <td>...</td>\n",
       "      <td>...</td>\n",
       "      <td>...</td>\n",
       "      <td>...</td>\n",
       "      <td>...</td>\n",
       "    </tr>\n",
       "    <tr>\n",
       "      <th>895</th>\n",
       "      <td>3361</td>\n",
       "      <td>65</td>\n",
       "      <td>8</td>\n",
       "      <td>0</td>\n",
       "      <td>1.99</td>\n",
       "      <td>37</td>\n",
       "      <td>0</td>\n",
       "      <td>4</td>\n",
       "      <td>0.0</td>\n",
       "      <td>0</td>\n",
       "      <td>vegetable</td>\n",
       "      <td>WokVegetable thais</td>\n",
       "    </tr>\n",
       "    <tr>\n",
       "      <th>896</th>\n",
       "      <td>817</td>\n",
       "      <td>96</td>\n",
       "      <td>12</td>\n",
       "      <td>0</td>\n",
       "      <td>2.09</td>\n",
       "      <td>25</td>\n",
       "      <td>0</td>\n",
       "      <td>3</td>\n",
       "      <td>0.0</td>\n",
       "      <td>0</td>\n",
       "      <td>vegetable</td>\n",
       "      <td>Snijbonen</td>\n",
       "    </tr>\n",
       "    <tr>\n",
       "      <th>897</th>\n",
       "      <td>3100</td>\n",
       "      <td>10</td>\n",
       "      <td>2</td>\n",
       "      <td>0</td>\n",
       "      <td>0.69</td>\n",
       "      <td>12</td>\n",
       "      <td>0</td>\n",
       "      <td>3</td>\n",
       "      <td>0.0</td>\n",
       "      <td>0</td>\n",
       "      <td>vegetable</td>\n",
       "      <td>Biologische knoflook</td>\n",
       "    </tr>\n",
       "    <tr>\n",
       "      <th>898</th>\n",
       "      <td>1070</td>\n",
       "      <td>40</td>\n",
       "      <td>5</td>\n",
       "      <td>0</td>\n",
       "      <td>0.89</td>\n",
       "      <td>15</td>\n",
       "      <td>0</td>\n",
       "      <td>3</td>\n",
       "      <td>1.0</td>\n",
       "      <td>0</td>\n",
       "      <td>vegetable</td>\n",
       "      <td>Basis sperziebonen</td>\n",
       "    </tr>\n",
       "    <tr>\n",
       "      <th>899</th>\n",
       "      <td>2304</td>\n",
       "      <td>38</td>\n",
       "      <td>5</td>\n",
       "      <td>0</td>\n",
       "      <td>1.59</td>\n",
       "      <td>7</td>\n",
       "      <td>0</td>\n",
       "      <td>3</td>\n",
       "      <td>0.0</td>\n",
       "      <td>0</td>\n",
       "      <td>vegetable</td>\n",
       "      <td>Biologische cherry tomaten</td>\n",
       "    </tr>\n",
       "  </tbody>\n",
       "</table>\n",
       "<p>900 rows × 12 columns</p>\n",
       "</div>"
      ],
      "text/plain": [
       "     Unnamed: 0  index  month  size  price  sales  simul_promotions  \\\n",
       "0          1672     24      3     0   0.89     15                 0   \n",
       "1          1690     42      5     0   0.89     23                 0   \n",
       "2          3154     64      8     0   0.69     12                 0   \n",
       "3            71     71      9     0   1.29     33                 0   \n",
       "4           984     57      7     0   2.99     36                 0   \n",
       "..          ...    ...    ...   ...    ...    ...               ...   \n",
       "895        3361     65      8     0   1.99     37                 0   \n",
       "896         817     96     12     0   2.09     25                 0   \n",
       "897        3100     10      2     0   0.69     12                 0   \n",
       "898        1070     40      5     0   0.89     15                 0   \n",
       "899        2304     38      5     0   1.59      7                 0   \n",
       "\n",
       "     days_inbetween  substitute_promotions  holiday   category  \\\n",
       "0                 3                    0.0        0  vegetable   \n",
       "1                 3                    0.0        0  vegetable   \n",
       "2                 3                    0.0        0  vegetable   \n",
       "3                 4                    0.0        0  vegetable   \n",
       "4                 4                    0.0        0  vegetable   \n",
       "..              ...                    ...      ...        ...   \n",
       "895               4                    0.0        0  vegetable   \n",
       "896               3                    0.0        0  vegetable   \n",
       "897               3                    0.0        0  vegetable   \n",
       "898               3                    1.0        0  vegetable   \n",
       "899               3                    0.0        0  vegetable   \n",
       "\n",
       "                        product  \n",
       "0            Basis Sperziebonen  \n",
       "1            Basis Sperziebonen  \n",
       "2          Biologische knoflook  \n",
       "3           Boerenkool gesneden  \n",
       "4        Buitenbeentjes paprika  \n",
       "..                          ...  \n",
       "895          WokVegetable thais  \n",
       "896                   Snijbonen  \n",
       "897        Biologische knoflook  \n",
       "898          Basis sperziebonen  \n",
       "899  Biologische cherry tomaten  \n",
       "\n",
       "[900 rows x 12 columns]"
      ]
     },
     "execution_count": 115,
     "metadata": {},
     "output_type": "execute_result"
    }
   ],
   "source": [
    "test_df"
   ]
  },
  {
   "cell_type": "code",
   "execution_count": null,
   "metadata": {},
   "outputs": [],
   "source": []
  }
 ],
 "metadata": {
  "kernelspec": {
   "display_name": "Python 3",
   "language": "python",
   "name": "python3"
  },
  "language_info": {
   "codemirror_mode": {
    "name": "ipython",
    "version": 3
   },
   "file_extension": ".py",
   "mimetype": "text/x-python",
   "name": "python",
   "nbconvert_exporter": "python",
   "pygments_lexer": "ipython3",
   "version": "3.7.9"
  }
 },
 "nbformat": 4,
 "nbformat_minor": 4
}
