{
 "cells": [
  {
   "cell_type": "code",
   "execution_count": 15,
   "metadata": {},
   "outputs": [],
   "source": [
    "import joblib\n",
    "import pandas as pd\n",
    "import numpy as np\n",
    "from sklearn.preprocessing import OneHotEncoder\n",
    "from sklearn import metrics"
   ]
  },
  {
   "cell_type": "code",
   "execution_count": 11,
   "metadata": {},
   "outputs": [],
   "source": [
    "def forest_variables(total_data, productEncoder):\n",
    "    prices = total_data['price']\n",
    "    sales = total_data['sales']\n",
    "    sizes = total_data['size']\n",
    "    months = total_data['month']\n",
    "    simulprom = total_data['simul_promotions']\n",
    "    subst_prom = total_data['substitute_promotions']\n",
    "    days_inbetween = total_data['days_inbetween']\n",
    "    holidays = total_data['holiday']\n",
    "    products = np.array(total_data['product']).reshape(-1, 1)\n",
    "    products = productEncoder.transform(products).toarray().tolist()\n",
    "    \n",
    "    zipped = zip(prices, sizes, days_inbetween, months, subst_prom, simulprom, holidays)\n",
    "    x_variables = [list(a) for a in zipped]\n",
    "    x_variables = list(map(list.__add__, x_variables, products))\n",
    "    y_variables = sales\n",
    "    \n",
    "    return x_variables, y_variables"
   ]
  },
  {
   "cell_type": "code",
   "execution_count": 12,
   "metadata": {},
   "outputs": [],
   "source": [
    "# load model\n",
    "rfr = joblib.load(\"./random_forest/best_model.joblib\")\n",
    "\n",
    "# Load train and test data set\n",
    "train_df = pd.read_csv('./test_train_data/train.csv')\n",
    "test_df = pd.read_csv('./test_train_data/test.csv')"
   ]
  },
  {
   "cell_type": "code",
   "execution_count": 13,
   "metadata": {},
   "outputs": [],
   "source": [
    "unique_products = train_df['product'].unique().reshape(-1, 1)\n",
    "\n",
    "productEncoder = OneHotEncoder(dtype=int).fit(unique_products)\n",
    "productEncoder = productEncoder.fit(unique_products)\n",
    "\n",
    "X_train, y_train = forest_variables(train_df, productEncoder)\n",
    "X_test, y_test = forest_variables(test_df, productEncoder)"
   ]
  },
  {
   "cell_type": "code",
   "execution_count": 16,
   "metadata": {},
   "outputs": [],
   "source": [
    "# Predict here\n",
    "y_pred = rfr.predict(X_test)\n",
    "rmse = np.sqrt(metrics.mean_squared_error(y_test, y_pred))"
   ]
  },
  {
   "cell_type": "code",
   "execution_count": 17,
   "metadata": {},
   "outputs": [
    {
     "data": {
      "text/plain": [
       "8.59169615047823"
      ]
     },
     "execution_count": 17,
     "metadata": {},
     "output_type": "execute_result"
    }
   ],
   "source": [
    "rmse"
   ]
  }
 ],
 "metadata": {
  "kernelspec": {
   "display_name": "Python 3",
   "language": "python",
   "name": "python3"
  },
  "language_info": {
   "codemirror_mode": {
    "name": "ipython",
    "version": 3
   },
   "file_extension": ".py",
   "mimetype": "text/x-python",
   "name": "python",
   "nbconvert_exporter": "python",
   "pygments_lexer": "ipython3",
   "version": "3.7.9"
  }
 },
 "nbformat": 4,
 "nbformat_minor": 4
}
